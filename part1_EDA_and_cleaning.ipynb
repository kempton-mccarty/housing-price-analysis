{
  "cells": [
    {
      "cell_type": "markdown",
      "metadata": {
        "nbgrader": {
          "grade": false,
          "grade_id": "cell-e0f9b2de18190d9d",
          "locked": true,
          "schema_version": 1,
          "solution": false
        },
        "id": "NF6elvV8SuLy"
      },
      "source": [
        "# Part 1: Exploring Cook County Housing"
      ]
    },
    {
      "cell_type": "markdown",
      "metadata": {
        "id": "ZfwYKAnvSuL0"
      },
      "source": [
        "## 1. Introduction\n",
        "\n",
        "This project explores insights from a comprehensive housing dataset embedded within the dense social context of Cook County, Illinois.\n",
        "\n",
        "Part 1 focuses on basic Exploratory Data Analysis (EDA) to understand the structure of the data. Additionally, new features are added to the dataset while cleaning the data in the process."
      ]
    },
    {
      "cell_type": "code",
      "execution_count": 1,
      "metadata": {
        "nbgrader": {
          "grade": false,
          "grade_id": "cell-62cfd21463535cac",
          "locked": true,
          "schema_version": 1,
          "solution": false
        },
        "id": "lBhv9BDJSuL0"
      },
      "outputs": [],
      "source": [
        "import numpy as np\n",
        "\n",
        "import pandas as pd\n",
        "\n",
        "%matplotlib inline\n",
        "import matplotlib.pyplot as plt\n",
        "import seaborn as sns\n",
        "\n",
        "import warnings\n",
        "warnings.filterwarnings(\"ignore\")\n",
        "\n",
        "import zipfile\n",
        "import os\n",
        "\n",
        "# Plot settings\n",
        "plt.rcParams['figure.figsize'] = (12, 9)\n",
        "plt.rcParams['font.size'] = 12"
      ]
    },
    {
      "cell_type": "markdown",
      "metadata": {
        "id": "b7DwUlChSuL0"
      },
      "source": [
        "# 2. Data Description\n",
        "\n",
        "The dataset consists of over 500,000 records from Cook County, Illinois, the county where Chicago is located. The dataset has 61 features in total; the 62nd is `Sale Price`, which will be projected with linear regression.\n",
        "\n",
        "The dataset is split into two parts:\n",
        "- **Training/Validation Set**: Contains 204,792 observations, used for data analysis and model training.\n",
        "- **Test Set**: Contains 68,264 observations, used for evaluating the model. Notably, the test set does not include values for the target variable, `Sale Price`.\n",
        "\n",
        "A more detailed explanation of each feature can be found in the `codebook.txt` file.\n",
        "\n"
      ]
    },
    {
      "cell_type": "code",
      "execution_count": 2,
      "metadata": {
        "nbgrader": {
          "grade": false,
          "grade_id": "cell-e8fea30adc9d489b",
          "locked": true,
          "schema_version": 1,
          "solution": false
        },
        "id": "8FVjFUAdSuL2"
      },
      "outputs": [],
      "source": [
        "with zipfile.ZipFile('data/cook_county_data.zip') as item:\n",
        "    item.extractall()\n",
        "\n",
        "training_data = pd.read_csv(\"cook_county_train.csv\", index_col='Unnamed: 0')"
      ]
    },
    {
      "cell_type": "markdown",
      "metadata": {
        "nbgrader": {
          "grade": false,
          "grade_id": "cell-9d6d509b6e854e10",
          "locked": true,
          "schema_version": 1,
          "solution": false
        },
        "id": "aKfVi9y4SuL2"
      },
      "source": [
        "For Part 1 of this analysis, only the training/validation set is used to perform data cleaning and feature engineering. The following verifies that the data shape matches the description."
      ]
    },
    {
      "cell_type": "code",
      "execution_count": 3,
      "metadata": {
        "nbgrader": {
          "grade": false,
          "grade_id": "cell-c841a2de55691502",
          "locked": true,
          "schema_version": 1,
          "solution": false
        },
        "id": "NHZynd5gSuL2"
      },
      "outputs": [],
      "source": [
        "# 204,792 observations and 62 features in training data\n",
        "assert training_data.shape == (204792, 62)\n",
        "# Sale Price is provided in the training data\n",
        "assert 'Sale Price' in training_data.columns.values"
      ]
    },
    {
      "cell_type": "code",
      "execution_count": 4,
      "metadata": {
        "colab": {
          "base_uri": "https://localhost:8080/",
          "height": 71
        },
        "id": "9f6qpt_oSuL3",
        "outputId": "f7c55084-e62c-4296-a833-e10a56012ef8"
      },
      "outputs": [
        {
          "output_type": "execute_result",
          "data": {
            "text/plain": [
              "'This property, sold on 09/14/2015, is a one-story houeshold located at 2950 S LYMAN ST.It has a total of 6 rooms, 3 of which are bedrooms, and 1.0 of which are bathrooms.'"
            ],
            "application/vnd.google.colaboratory.intrinsic+json": {
              "type": "string"
            }
          },
          "metadata": {},
          "execution_count": 4
        }
      ],
      "source": [
        "training_data['Description'][0]"
      ]
    },
    {
      "cell_type": "markdown",
      "source": [
        "### Contextualizing the Data\n",
        "- Granularity: Each row represents an individual property sold in Cook County, Illinois.\n",
        "- The data was likely collected by a real estate agency or assessor's office to analyze market trends and explore how property features influence sale prices.\n",
        "- It provides valuable information for establishing competitive property prices and helping clients make informed decisions about future real estate purchases in the area.\n",
        "\n"
      ],
      "metadata": {
        "id": "PI8PQYjSVlRo"
      }
    },
    {
      "cell_type": "markdown",
      "metadata": {
        "deletable": false,
        "editable": false,
        "nbgrader": {
          "grade": false,
          "grade_id": "cell-ba0f6926b0dafefb",
          "locked": true,
          "schema_version": 1,
          "solution": false
        },
        "id": "4En3tVomSuL3"
      },
      "source": [
        "# 3. Exploratory Data Analysis (EDA)\n",
        "\n",
        "This dataset was collected by the [Cook County Assessor's Office](https://datacatalog.cookcountyil.gov/Property-Taxation/Archive-Cook-County-Assessor-s-Residential-Sales-D/5pge-nu6u) in order to build a model to predict the monetary value of a home. More information about data collection can be found in the CCAO's [Residential Data Integrity Preliminary Report](https://gitlab.com/ccao-data-science---modeling/ccao_sf_cama_dev/-/blob/master/documentation/Preliminary%20Report%20on%20Data%20Integrity%20June%207,%202019.pdf)."
      ]
    },
    {
      "cell_type": "markdown",
      "source": [
        "### Sale Price\n",
        "The following visualizes the distribution and summary statistics of the target variable, `Sale Price`."
      ],
      "metadata": {
        "id": "tzg6SNTUq40P"
      }
    },
    {
      "cell_type": "code",
      "execution_count": 5,
      "metadata": {
        "nbgrader": {
          "grade": false,
          "grade_id": "cell-15d483a695655cea",
          "locked": true,
          "schema_version": 1,
          "solution": false
        },
        "id": "4B98wQOGSuL4"
      },
      "outputs": [],
      "source": [
        "def plot_distribution(data, label):\n",
        "    fig, axs = plt.subplots(nrows=2)\n",
        "\n",
        "    sns.distplot(\n",
        "        data[label],\n",
        "        ax=axs[0]\n",
        "    )\n",
        "    sns.boxplot(\n",
        "        x=data[label],\n",
        "        width=0.3,\n",
        "        ax=axs[1],\n",
        "        showfliers=False,\n",
        "    )\n",
        "\n",
        "    # Align axes\n",
        "    spacer = np.max(data[label]) * 0.05\n",
        "    xmin = np.min(data[label]) - spacer\n",
        "    xmax = np.max(data[label]) + spacer\n",
        "    axs[0].set_xlim((xmin, xmax))\n",
        "    axs[1].set_xlim((xmin, xmax))\n",
        "\n",
        "    # Remove some axis text\n",
        "    axs[0].xaxis.set_visible(False)\n",
        "    axs[0].yaxis.set_visible(False)\n",
        "    axs[1].yaxis.set_visible(False)\n",
        "\n",
        "    # Put the two plots together\n",
        "    plt.subplots_adjust(hspace=0)\n",
        "    fig.suptitle(\"Distribution of \" + label)"
      ]
    },
    {
      "cell_type": "code",
      "execution_count": 6,
      "metadata": {
        "colab": {
          "base_uri": "https://localhost:8080/",
          "height": 582
        },
        "id": "k6Mz9QMSSuL4",
        "outputId": "774d6f9e-bb8a-455f-b8ef-f332c0f1571b"
      },
      "outputs": [
        {
          "output_type": "display_data",
          "data": {
            "text/plain": [
              "<Figure size 1200x900 with 2 Axes>"
            ],
            "image/png": "[encoded data removed]"
          },
          "metadata": {}
        }
      ],
      "source": [
        "plot_distribution(training_data, label='Sale Price')"
      ]
    },
    {
      "cell_type": "code",
      "execution_count": 7,
      "metadata": {
        "colab": {
          "base_uri": "https://localhost:8080/",
          "height": 335
        },
        "id": "iUoT7EgdSuL4",
        "outputId": "19ee14c2-401c-47ae-9446-2e75ab710b68"
      },
      "outputs": [
        {
          "output_type": "execute_result",
          "data": {
            "text/plain": [
              "count    2.047920e+05\n",
              "mean     2.451646e+05\n",
              "std      3.628694e+05\n",
              "min      1.000000e+00\n",
              "25%      4.520000e+04\n",
              "50%      1.750000e+05\n",
              "75%      3.120000e+05\n",
              "max      7.100000e+07\n",
              "Name: Sale Price, dtype: float64"
            ],
            "text/html": [
              "<div>\n",
              "<style scoped>\n",
              "    .dataframe tbody tr th:only-of-type {\n",
              "        vertical-align: middle;\n",
              "    }\n",
              "\n",
              "    .dataframe tbody tr th {\n",
              "        vertical-align: top;\n",
              "    }\n",
              "\n",
              "    .dataframe thead th {\n",
              "        text-align: right;\n",
              "    }\n",
              "</style>\n",
              "<table border=\"1\" class=\"dataframe\">\n",
              "  <thead>\n",
              "    <tr style=\"text-align: right;\">\n",
              "      <th></th>\n",
              "      <th>Sale Price</th>\n",
              "    </tr>\n",
              "  </thead>\n",
              "  <tbody>\n",
              "    <tr>\n",
              "      <th>count</th>\n",
              "      <td>2.047920e+05</td>\n",
              "    </tr>\n",
              "    <tr>\n",
              "      <th>mean</th>\n",
              "      <td>2.451646e+05</td>\n",
              "    </tr>\n",
              "    <tr>\n",
              "      <th>std</th>\n",
              "      <td>3.628694e+05</td>\n",
              "    </tr>\n",
              "    <tr>\n",
              "      <th>min</th>\n",
              "      <td>1.000000e+00</td>\n",
              "    </tr>\n",
              "    <tr>\n",
              "      <th>25%</th>\n",
              "      <td>4.520000e+04</td>\n",
              "    </tr>\n",
              "    <tr>\n",
              "      <th>50%</th>\n",
              "      <td>1.750000e+05</td>\n",
              "    </tr>\n",
              "    <tr>\n",
              "      <th>75%</th>\n",
              "      <td>3.120000e+05</td>\n",
              "    </tr>\n",
              "    <tr>\n",
              "      <th>max</th>\n",
              "      <td>7.100000e+07</td>\n",
              "    </tr>\n",
              "  </tbody>\n",
              "</table>\n",
              "</div><br><label><b>dtype:</b> float64</label>"
            ]
          },
          "metadata": {},
          "execution_count": 7
        }
      ],
      "source": [
        "training_data['Sale Price'].describe()"
      ]
    },
    {
      "cell_type": "markdown",
      "metadata": {
        "id": "lxg8dFQ_SuL4"
      },
      "source": [
        "Outliers in the `Sale Price` column distort the scale of the plot, making it difficult to observe key trends in the distribution. A way to overcome this issue is to remove the outliers, which can be identified using the 1.5*IQR formula. Once the outliers are identified, a new `Sale Price` column without outliers can be created and used in a new distribution plot that will be more effective in depicting the distribution of property sale prices.\n",
        "\n",
        "To better visualize the majority of households, the focus is shifted to a subset of `Sale Price`, with a log transformation applied.\n",
        "- `training_data` contains only households whose price is at least $500.\n",
        "- A new column, `Log Sale Price`, is added to `training_data` to store log-transformed sale prices.\n",
        "\n",
        "The model's target variable will be the log-transformed sale prices from the column `Log Sale Price`."
      ]
    },
    {
      "cell_type": "code",
      "execution_count": 8,
      "metadata": {
        "tags": [],
        "id": "rqgiwbYxSuL4"
      },
      "outputs": [],
      "source": [
        "training_data = training_data[training_data['Sale Price'] >= 500]\n",
        "\n",
        "training_data['Log Sale Price'] = np.log(training_data['Sale Price'])"
      ]
    },
    {
      "cell_type": "markdown",
      "metadata": {
        "id": "hKWTZd3ySuL5"
      },
      "source": [
        "The distribution for the Log Scale Price is much more uniform, as shown below."
      ]
    },
    {
      "cell_type": "code",
      "execution_count": 9,
      "metadata": {
        "colab": {
          "base_uri": "https://localhost:8080/",
          "height": 582
        },
        "id": "P-qeecSUSuL5",
        "outputId": "2111a9b1-b050-46a8-9b0d-474e75d2512b"
      },
      "outputs": [
        {
          "output_type": "display_data",
          "data": {
            "text/plain": [
              "<Figure size 1200x900 with 2 Axes>"
            ],
            "image/png": "[encoded data removed]"
          },
          "metadata": {}
        }
      ],
      "source": [
        "plot_distribution(training_data, label='Log Sale Price');"
      ]
    },
    {
      "cell_type": "markdown",
      "metadata": {
        "deletable": false,
        "editable": false,
        "id": "fPYz07pgSuL9"
      },
      "source": [
        "Next, the correlation between `Log Sale Price` and the total area occupied by the property is explored. Based on the `codebook.txt` file, the column `Building Square Feet` measures \"(from the exterior) the total area, in square feet, occupied by the building\".\n",
        "\n",
        "A new column, `Log Building Square Feet`, is added to `training_data` and contains the log-transformed area occupied by each property."
      ]
    },
    {
      "cell_type": "code",
      "execution_count": 10,
      "metadata": {
        "tags": [],
        "id": "OdXxYzrRSuL9"
      },
      "outputs": [],
      "source": [
        "training_data['Log Building Square Feet'] = np.log(training_data['Building Square Feet'])"
      ]
    },
    {
      "cell_type": "markdown",
      "metadata": {
        "deletable": false,
        "editable": false,
        "id": "2R1CuKV3SuL-"
      },
      "source": [
        "Outliers from the data are addressed by the function `remove_outliers`, which removes outliers based on thresholds. For example, `remove_outliers(training_data, 'Building Square Feet', lower=500, upper=8000)` returns a copy of `data` with only observations that satisfy `Building Square Feet` less than or equal to 8000 (inclusive) and `Building Square Feet` greater than 500 (exclusive)."
      ]
    },
    {
      "cell_type": "code",
      "execution_count": 11,
      "metadata": {
        "nbgrader": {
          "grade": false,
          "grade_id": "cell-9186ec2ca053d0aa",
          "locked": false,
          "schema_version": 1,
          "solution": true
        },
        "tags": [],
        "id": "VbMp6gT4SuL-"
      },
      "outputs": [],
      "source": [
        "def remove_outliers(data, variable, lower=-np.inf, upper=np.inf):\n",
        "    \"\"\"\n",
        "    Input:\n",
        "      data (DataFrame): the table to be filtered\n",
        "      variable (string): the column with numerical outliers\n",
        "      lower (numeric): observations with values lower than or equal to this will be removed\n",
        "      upper (numeric): observations with values higher than this will be removed\n",
        "\n",
        "    Output:\n",
        "      a DataFrame with outliers removed\n",
        "\n",
        "    Note: This function should not change mutate the contents of data.\n",
        "    \"\"\"\n",
        "    data = data[data[variable] > lower]\n",
        "    data = data[data[variable] <= upper]\n",
        "    return data"
      ]
    },
    {
      "cell_type": "markdown",
      "metadata": {
        "deletable": false,
        "editable": false,
        "id": "QS72JPI_SuL-"
      },
      "source": [
        "# 4. Feature Engineering"
      ]
    },
    {
      "cell_type": "markdown",
      "source": [
        "### Bedrooms\n",
        "\n",
        "The total number of bedrooms is extracted as the first feature of the model. The `Bedrooms` column doesn't exist in the original `DataFrame`; it is part of the `Description` column.\n",
        "\n",
        "The following variables can also be extracted from the `Description` column:\n",
        "\n",
        "1. The date the property was sold on.\n",
        "2. The number of stories the property contains.\n",
        "3. The address of the property.\n",
        "4. The total number of rooms inside the property.\n",
        "5. The total number of bedrooms inside the property.\n",
        "6. The total number of bathrooms inside the property.\n",
        "\n",
        "The function `add_total_bedrooms(data)` returns a copy of `data` with an additional column called `Bedrooms` that contains the total number of bedrooms (**as integers**) for each house. Missing values are treated as zeros."
      ],
      "metadata": {
        "id": "Cb3RSH79q-dz"
      }
    },
    {
      "cell_type": "code",
      "execution_count": 12,
      "metadata": {
        "tags": [],
        "id": "8-iq6hyaSuL-"
      },
      "outputs": [],
      "source": [
        "def add_total_bedrooms(data):\n",
        "    \"\"\"\n",
        "    Input:\n",
        "      data (DataFrame): a DataFrame containing at least the Description column.\n",
        "\n",
        "    Output:\n",
        "      a Dataframe with a new column \"Bedrooms\" containing ints.\n",
        "\n",
        "    \"\"\"\n",
        "    with_rooms = data.copy()\n",
        "    with_rooms[\"Bedrooms\"] = with_rooms[\"Description\"].str.extract(r'rooms, (\\d) of which are bedrooms').fillna(0).astype(int)\n",
        "    return with_rooms\n",
        "\n",
        "training_data = add_total_bedrooms(training_data)"
      ]
    },
    {
      "cell_type": "markdown",
      "metadata": {
        "deletable": false,
        "editable": false,
        "id": "VJb2iSm_SuL-"
      },
      "source": [
        "The following visualization highlights the relationship between `Bedrooms` and `Log Sale Price`."
      ]
    },
    {
      "cell_type": "code",
      "execution_count": 13,
      "metadata": {
        "tags": [],
        "colab": {
          "base_uri": "https://localhost:8080/",
          "height": 527
        },
        "id": "iEunMjPRSuL_",
        "outputId": "eab65446-8e74-4fc2-bcf5-29fa0b9583e9"
      },
      "outputs": [
        {
          "output_type": "execute_result",
          "data": {
            "text/plain": [
              "[Text(0.5, 1.0, 'Bedrooms vs. Log Sale Price')]"
            ]
          },
          "metadata": {},
          "execution_count": 13
        },
        {
          "output_type": "display_data",
          "data": {
            "text/plain": [
              "<Figure size 1200x900 with 1 Axes>"
            ],
            "image/png": "[encoded data removed]"
          },
          "metadata": {}
        }
      ],
      "source": [
        "sns.violinplot(data=training_data,x='Bedrooms',y='Log Sale Price').set(title='Bedrooms vs. Log Sale Price')"
      ]
    },
    {
      "cell_type": "markdown",
      "metadata": {
        "deletable": false,
        "editable": false,
        "id": "UHGvDG9_SuL_"
      },
      "source": [
        "The dataset lacks actual neighborhood names. Instead, it includes a `Neighborhood Code` column, which provides numerical encodings assigned by the Assessor's Office.\n",
        "\n",
        "The variable `num_neighborhoods` stores the total number of unique neighborhoods in `training_data`."
      ]
    },
    {
      "cell_type": "code",
      "execution_count": 14,
      "metadata": {
        "tags": [],
        "colab": {
          "base_uri": "https://localhost:8080/"
        },
        "id": "oKu2AzdHSuL_",
        "outputId": "8d55b2ff-81bd-4399-e04c-5c13a22f510f"
      },
      "outputs": [
        {
          "output_type": "execute_result",
          "data": {
            "text/plain": [
              "193"
            ]
          },
          "metadata": {},
          "execution_count": 14
        }
      ],
      "source": [
        "num_neighborhoods = len(training_data['Neighborhood Code'].value_counts())\n",
        "num_neighborhoods"
      ]
    },
    {
      "cell_type": "markdown",
      "metadata": {
        "id": "-QH1OHJQSuL_"
      },
      "source": [
        "Directly plotting the distribution of `Log Sale Price` for all of the households in each neighborhood using the `plot_categorical` function from the next cell results in overplotting due to the large number of neighborhoods in our dataset.\n",
        "\n",
        "To more clearly visualize the distribution of `Log Sale Price` across neighborhoods, the focus is narrowed to a subset of neighborhoods to avoid an overly dense x-axis."
      ]
    },
    {
      "cell_type": "code",
      "execution_count": 15,
      "metadata": {
        "scrolled": true,
        "id": "oyIpL4dnSuL_"
      },
      "outputs": [],
      "source": [
        "def plot_categorical(neighborhoods):\n",
        "    fig, axs = plt.subplots(nrows=2)\n",
        "\n",
        "    sns.boxplot(\n",
        "        x='Neighborhood Code',\n",
        "        y='Log Sale Price',\n",
        "        data=neighborhoods,\n",
        "        ax=axs[0],\n",
        "    )\n",
        "\n",
        "    sns.countplot(\n",
        "        x='Neighborhood Code',\n",
        "        data=neighborhoods,\n",
        "        ax=axs[1],\n",
        "    )\n",
        "\n",
        "    # Draw median price\n",
        "    axs[0].axhline(\n",
        "        y=training_data['Log Sale Price'].median(),\n",
        "        color='red',\n",
        "        linestyle='dotted'\n",
        "    )\n",
        "\n",
        "    # Label the bars with counts\n",
        "    for patch in axs[1].patches:\n",
        "        x = patch.get_bbox().get_points()[:, 0]\n",
        "        y = patch.get_bbox().get_points()[1, 1]\n",
        "        axs[1].annotate(f'{int(y)}', (x.mean(), y), ha='center', va='bottom')\n",
        "\n",
        "    # Format x-axes\n",
        "    axs[1].set_xticklabels(axs[1].xaxis.get_majorticklabels(), rotation=90)\n",
        "    axs[0].xaxis.set_visible(False)\n",
        "\n",
        "    # Narrow the gap between the plots\n",
        "    plt.subplots_adjust(hspace=0.01)"
      ]
    },
    {
      "cell_type": "markdown",
      "metadata": {
        "deletable": false,
        "editable": false,
        "id": "u_lK_l5SSuL_"
      },
      "source": [
        "The variable `in_top_20_neighborhoods` is a copy of `training_data` that has been filtered to only contain rows corresponding to properties that are one of the top 20 most populous neighborhoods. The \"top 20 neighborhoods\" are defined as the 20 neighborhood codes that have the greatest number of properties within them."
      ]
    },
    {
      "cell_type": "code",
      "execution_count": 16,
      "metadata": {
        "tags": [],
        "id": "ssnAxt3RSuL_"
      },
      "outputs": [],
      "source": [
        "top_20_neighborhood_codes = training_data['Neighborhood Code'].value_counts().index.to_list()[0:20]\n",
        "in_top_20_neighborhoods = training_data.loc[training_data['Neighborhood Code'].isin(top_20_neighborhood_codes)]"
      ]
    },
    {
      "cell_type": "markdown",
      "metadata": {
        "id": "EArxZWTpSuL_"
      },
      "source": [
        "The following plot visualizes the distribution of `sale price` within in each neighborhood again with the top 20 neighborhoods."
      ]
    },
    {
      "cell_type": "code",
      "execution_count": 17,
      "metadata": {
        "colab": {
          "base_uri": "https://localhost:8080/",
          "height": 494
        },
        "id": "ZJGnTXBISuMA",
        "outputId": "e2c5523d-93b7-434b-c449-e8f16dfeca75"
      },
      "outputs": [
        {
          "output_type": "display_data",
          "data": {
            "text/plain": [
              "<Figure size 1200x900 with 2 Axes>"
            ],
            "image/png": "[encoded data removed]"
          },
          "metadata": {}
        }
      ],
      "source": [
        "plot_categorical(neighborhoods=in_top_20_neighborhoods)"
      ]
    },
    {
      "cell_type": "markdown",
      "metadata": {
        "deletable": false,
        "editable": false,
        "id": "zbaNh6UUSuMA"
      },
      "source": [
        "The plot above suggests there is much less data available for some neighborhoods. For example, Neighborhood 71 has only around 27% of the number of datapoints as Neighborhood 30.\n",
        "\n",
        "One approach to addressing the lack of data for some neighborhoods involves creating a new feature that bins neighborhoods together. The neighborhoods are categorized by how \"expensive\" they are, determined by aggregating the `Log Sale Price`s for all properties in a particular neighborhood using a chosen `metric`, such as the median. The top n most expensive neighborhoods are labeled as \"expensive neighborhoods\" and all other neighborhoods are left unmarked.\n",
        "\n",
        "The function `find_expensive_neighborhoods` returns a **list** of the neighborhood codes of the **top `n`** most expensive neighborhoods as measured by the aggregating function, `metric`. For example, calling `find_expensive_neighborhoods(training_data, n=3, metric=np.median)` returns the 3 neighborhood codes with the highest median `Log Sale Price` computed across all properties in those neighborhood codes.\n"
      ]
    },
    {
      "cell_type": "code",
      "execution_count": 18,
      "metadata": {
        "tags": [],
        "colab": {
          "base_uri": "https://localhost:8080/"
        },
        "id": "ltIIqkGnSuMA",
        "outputId": "84c894f5-7b24-4613-dbc3-7c9b6bd9245f"
      },
      "outputs": [
        {
          "output_type": "execute_result",
          "data": {
            "text/plain": [
              "[44, 94, 93]"
            ]
          },
          "metadata": {},
          "execution_count": 18
        }
      ],
      "source": [
        "def find_expensive_neighborhoods(data, n=3, metric=np.median):\n",
        "    \"\"\"\n",
        "    Input:\n",
        "      data (DataFrame): should contain at least a int-valued 'Neighborhood Code'\n",
        "        and a numeric 'Log Sale Price' column\n",
        "      n (int): the number of top values desired\n",
        "      metric (function): function used for aggregating the data in each neighborhood.\n",
        "        for example, np.median for median prices\n",
        "\n",
        "    Output:\n",
        "      a list of the the neighborhood codes of the top n highest-priced neighborhoods\n",
        "      as measured by the metric function\n",
        "    \"\"\"\n",
        "    neighborhoods = data.groupby('Neighborhood Code')['Log Sale Price'].agg(metric).sort_values(ascending=False).iloc[0:n].index\n",
        "\n",
        "    # This makes sure the final list contains the generic int type used in Python3, not specific ones used in numpy.\n",
        "    return [int(code) for code in neighborhoods]\n",
        "\n",
        "expensive_neighborhoods = find_expensive_neighborhoods(training_data, 3, np.median)\n",
        "expensive_neighborhoods"
      ]
    },
    {
      "cell_type": "markdown",
      "metadata": {
        "deletable": false,
        "editable": false,
        "id": "lkj1NzQNSuMB"
      },
      "source": [
        "A list of neighborhoods deemed as higher-priced than others can be used to write an additional function `add_expensive_neighborhood`, which takes in a `DataFrame` of housing data (`data`) and a list of neighborhood codes considered to be expensive (`expensive_neighborhoods`).\n",
        "\n",
        "Using these inputs, `add_expensive_neighborhood` adds a column to `data` named `in_expensive_neighborhood` that takes on the **integer** value of 1 if a property is part of a neighborhood in `expensive_neighborhoods` and the integer value of 0 if it is not."
      ]
    },
    {
      "cell_type": "code",
      "execution_count": 19,
      "metadata": {
        "tags": [],
        "id": "IijljhIlSuMB"
      },
      "outputs": [],
      "source": [
        "def add_in_expensive_neighborhood(data, expensive_neighborhoods):\n",
        "    \"\"\"\n",
        "    Input:\n",
        "      data (DataFrame): a DataFrame containing a 'Neighborhood Code' column with values\n",
        "        found in the codebook\n",
        "      neighborhoods (list of strings): strings should be the names of neighborhoods\n",
        "        pre-identified as expensive\n",
        "    Output:\n",
        "      DataFrame identical to the input with the addition of a binary\n",
        "      in_expensive_neighborhood column\n",
        "    \"\"\"\n",
        "    data['in_expensive_neighborhood'] = data['Neighborhood Code'].isin(expensive_neighborhoods).astype(int)\n",
        "    return data\n",
        "\n",
        "expensive_neighborhoods = find_expensive_neighborhoods(training_data, 3, np.median)\n",
        "training_data = add_in_expensive_neighborhood(training_data, expensive_neighborhoods)"
      ]
    },
    {
      "cell_type": "markdown",
      "metadata": {
        "deletable": false,
        "editable": false,
        "id": "vHXFzCKLSuMC"
      },
      "source": [
        "Examining the `Roof Material` feature of the dataset, the Assessor's Office uses the following mapping for the numerical values in the `Roof Material` column, as outlined in the `codebook.txt` file).\n",
        "```\n",
        "Roof Material (Nominal):\n",
        "\n",
        "       1    Shingle/Asphalt\n",
        "       2    Tar & Gravel\n",
        "       3    Slate\n",
        "       4    Shake\n",
        "       5    Tile\n",
        "       6    Other\n",
        "```\n",
        "\n",
        "The function `substitute_roof_material` replaces each numerical value in `Roof Material` with their corresponding roof material. It returns a new `DataFrame` instead of modifying the existing `DataFrame`.\n"
      ]
    },
    {
      "cell_type": "code",
      "execution_count": 20,
      "metadata": {
        "tags": [],
        "colab": {
          "base_uri": "https://localhost:8080/",
          "height": 568
        },
        "id": "BNgMCK5GSuMC",
        "outputId": "5c5853c3-c4d4-4aa5-b767-5d79331e69f2"
      },
      "outputs": [
        {
          "output_type": "execute_result",
          "data": {
            "text/plain": [
              "              PIN  Property Class  Neighborhood Code  Land Square Feet  \\\n",
              "1  13272240180000             202                120            3780.0   \n",
              "2  25221150230000             202                210            4375.0   \n",
              "3  10251130030000             203                220            4375.0   \n",
              "4  31361040550000             202                120            8400.0   \n",
              "6  30314240080000             203                181           10890.0   \n",
              "\n",
              "   Town Code  Apartments  Wall Material    Roof Material  Basement  \\\n",
              "1         71         0.0            2.0  Shingle/Asphalt       1.0   \n",
              "2         70         0.0            2.0  Shingle/Asphalt       2.0   \n",
              "3         17         0.0            3.0  Shingle/Asphalt       1.0   \n",
              "4         32         0.0            3.0  Shingle/Asphalt       2.0   \n",
              "6         37         0.0            1.0  Shingle/Asphalt       1.0   \n",
              "\n",
              "   Basement Finish  ...  Pure Market Filter  Garage Indicator  \\\n",
              "1              1.0  ...                   1               1.0   \n",
              "2              3.0  ...                   1               1.0   \n",
              "3              3.0  ...                   1               1.0   \n",
              "4              3.0  ...                   1               1.0   \n",
              "6              3.0  ...                   1               1.0   \n",
              "\n",
              "   Neigborhood Code (mapping)  Town and Neighborhood  \\\n",
              "1                         120                  71120   \n",
              "2                         210                  70210   \n",
              "3                         220                  17220   \n",
              "4                         120                  32120   \n",
              "6                         181                  37181   \n",
              "\n",
              "                                         Description  Lot Size  \\\n",
              "1  This property, sold on 05/23/2018, is a one-st...    3780.0   \n",
              "2  This property, sold on 02/18/2016, is a one-st...    4375.0   \n",
              "3  This property, sold on 07/23/2013, is a one-st...    4375.0   \n",
              "4  This property, sold on 06/10/2016, is a one-st...    8400.0   \n",
              "6  This property, sold on 10/26/2017, is a one-st...   10890.0   \n",
              "\n",
              "   Log Sale Price  Log Building Square Feet  Bedrooms  \\\n",
              "1       12.560244                  6.904751         3   \n",
              "2        9.998798                  6.810142         3   \n",
              "3       12.323856                  7.068172         3   \n",
              "4       10.025705                  6.855409         2   \n",
              "6       11.512925                  7.458186         4   \n",
              "\n",
              "   in_expensive_neighborhood  \n",
              "1                          0  \n",
              "2                          0  \n",
              "3                          0  \n",
              "4                          0  \n",
              "6                          0  \n",
              "\n",
              "[5 rows x 66 columns]"
            ],
            "text/html": [
              "\n",
              "  <div id=\"df-e873590a-1530-4d38-b85b-2cab886d9d69\" class=\"colab-df-container\">\n",
              "    <div>\n",
              "<style scoped>\n",
              "    .dataframe tbody tr th:only-of-type {\n",
              "        vertical-align: middle;\n",
              "    }\n",
              "\n",
              "    .dataframe tbody tr th {\n",
              "        vertical-align: top;\n",
              "    }\n",
              "\n",
              "    .dataframe thead th {\n",
              "        text-align: right;\n",
              "    }\n",
              "</style>\n",
              "<table border=\"1\" class=\"dataframe\">\n",
              "  <thead>\n",
              "    <tr style=\"text-align: right;\">\n",
              "      <th></th>\n",
              "      <th>PIN</th>\n",
              "      <th>Property Class</th>\n",
              "      <th>Neighborhood Code</th>\n",
              "      <th>Land Square Feet</th>\n",
              "      <th>Town Code</th>\n",
              "      <th>Apartments</th>\n",
              "      <th>Wall Material</th>\n",
              "      <th>Roof Material</th>\n",
              "      <th>Basement</th>\n",
              "      <th>Basement Finish</th>\n",
              "      <th>...</th>\n",
              "      <th>Pure Market Filter</th>\n",
              "      <th>Garage Indicator</th>\n",
              "      <th>Neigborhood Code (mapping)</th>\n",
              "      <th>Town and Neighborhood</th>\n",
              "      <th>Description</th>\n",
              "      <th>Lot Size</th>\n",
              "      <th>Log Sale Price</th>\n",
              "      <th>Log Building Square Feet</th>\n",
              "      <th>Bedrooms</th>\n",
              "      <th>in_expensive_neighborhood</th>\n",
              "    </tr>\n",
              "  </thead>\n",
              "  <tbody>\n",
              "    <tr>\n",
              "      <th>1</th>\n",
              "      <td>13272240180000</td>\n",
              "      <td>202</td>\n",
              "      <td>120</td>\n",
              "      <td>3780.0</td>\n",
              "      <td>71</td>\n",
              "      <td>0.0</td>\n",
              "      <td>2.0</td>\n",
              "      <td>Shingle/Asphalt</td>\n",
              "      <td>1.0</td>\n",
              "      <td>1.0</td>\n",
              "      <td>...</td>\n",
              "      <td>1</td>\n",
              "      <td>1.0</td>\n",
              "      <td>120</td>\n",
              "      <td>71120</td>\n",
              "      <td>This property, sold on 05/23/2018, is a one-st...</td>\n",
              "      <td>3780.0</td>\n",
              "      <td>12.560244</td>\n",
              "      <td>6.904751</td>\n",
              "      <td>3</td>\n",
              "      <td>0</td>\n",
              "    </tr>\n",
              "    <tr>\n",
              "      <th>2</th>\n",
              "      <td>25221150230000</td>\n",
              "      <td>202</td>\n",
              "      <td>210</td>\n",
              "      <td>4375.0</td>\n",
              "      <td>70</td>\n",
              "      <td>0.0</td>\n",
              "      <td>2.0</td>\n",
              "      <td>Shingle/Asphalt</td>\n",
              "      <td>2.0</td>\n",
              "      <td>3.0</td>\n",
              "      <td>...</td>\n",
              "      <td>1</td>\n",
              "      <td>1.0</td>\n",
              "      <td>210</td>\n",
              "      <td>70210</td>\n",
              "      <td>This property, sold on 02/18/2016, is a one-st...</td>\n",
              "      <td>4375.0</td>\n",
              "      <td>9.998798</td>\n",
              "      <td>6.810142</td>\n",
              "      <td>3</td>\n",
              "      <td>0</td>\n",
              "    </tr>\n",
              "    <tr>\n",
              "      <th>3</th>\n",
              "      <td>10251130030000</td>\n",
              "      <td>203</td>\n",
              "      <td>220</td>\n",
              "      <td>4375.0</td>\n",
              "      <td>17</td>\n",
              "      <td>0.0</td>\n",
              "      <td>3.0</td>\n",
              "      <td>Shingle/Asphalt</td>\n",
              "      <td>1.0</td>\n",
              "      <td>3.0</td>\n",
              "      <td>...</td>\n",
              "      <td>1</td>\n",
              "      <td>1.0</td>\n",
              "      <td>220</td>\n",
              "      <td>17220</td>\n",
              "      <td>This property, sold on 07/23/2013, is a one-st...</td>\n",
              "      <td>4375.0</td>\n",
              "      <td>12.323856</td>\n",
              "      <td>7.068172</td>\n",
              "      <td>3</td>\n",
              "      <td>0</td>\n",
              "    </tr>\n",
              "    <tr>\n",
              "      <th>4</th>\n",
              "      <td>31361040550000</td>\n",
              "      <td>202</td>\n",
              "      <td>120</td>\n",
              "      <td>8400.0</td>\n",
              "      <td>32</td>\n",
              "      <td>0.0</td>\n",
              "      <td>3.0</td>\n",
              "      <td>Shingle/Asphalt</td>\n",
              "      <td>2.0</td>\n",
              "      <td>3.0</td>\n",
              "      <td>...</td>\n",
              "      <td>1</td>\n",
              "      <td>1.0</td>\n",
              "      <td>120</td>\n",
              "      <td>32120</td>\n",
              "      <td>This property, sold on 06/10/2016, is a one-st...</td>\n",
              "      <td>8400.0</td>\n",
              "      <td>10.025705</td>\n",
              "      <td>6.855409</td>\n",
              "      <td>2</td>\n",
              "      <td>0</td>\n",
              "    </tr>\n",
              "    <tr>\n",
              "      <th>6</th>\n",
              "      <td>30314240080000</td>\n",
              "      <td>203</td>\n",
              "      <td>181</td>\n",
              "      <td>10890.0</td>\n",
              "      <td>37</td>\n",
              "      <td>0.0</td>\n",
              "      <td>1.0</td>\n",
              "      <td>Shingle/Asphalt</td>\n",
              "      <td>1.0</td>\n",
              "      <td>3.0</td>\n",
              "      <td>...</td>\n",
              "      <td>1</td>\n",
              "      <td>1.0</td>\n",
              "      <td>181</td>\n",
              "      <td>37181</td>\n",
              "      <td>This property, sold on 10/26/2017, is a one-st...</td>\n",
              "      <td>10890.0</td>\n",
              "      <td>11.512925</td>\n",
              "      <td>7.458186</td>\n",
              "      <td>4</td>\n",
              "      <td>0</td>\n",
              "    </tr>\n",
              "  </tbody>\n",
              "</table>\n",
              "<p>5 rows × 66 columns</p>\n",
              "</div>\n",
              "    <div class=\"colab-df-buttons\">\n",
              "\n",
              "  <div class=\"colab-df-container\">\n",
              "    <button class=\"colab-df-convert\" onclick=\"convertToInteractive('df-e873590a-1530-4d38-b85b-2cab886d9d69')\"\n",
              "            title=\"Convert this dataframe to an interactive table.\"\n",
              "            style=\"display:none;\">\n",
              "\n",
              "  <svg xmlns=\"http://www.w3.org/2000/svg\" height=\"24px\" viewBox=\"0 -960 960 960\">\n",
              "    <path d=\"M120-120v-720h720v720H120Zm60-500h600v-160H180v160Zm220 220h160v-160H400v160Zm0 220h160v-160H400v160ZM180-400h160v-160H180v160Zm440 0h160v-160H620v160ZM180-180h160v-160H180v160Zm440 0h160v-160H620v160Z\"/>\n",
              "  </svg>\n",
              "    </button>\n",
              "\n",
              "  <style>\n",
              "    .colab-df-container {\n",
              "      display:flex;\n",
              "      gap: 12px;\n",
              "    }\n",
              "\n",
              "    .colab-df-convert {\n",
              "      background-color: #E8F0FE;\n",
              "      border: none;\n",
              "      border-radius: 50%;\n",
              "      cursor: pointer;\n",
              "      display: none;\n",
              "      fill: #1967D2;\n",
              "      height: 32px;\n",
              "      padding: 0 0 0 0;\n",
              "      width: 32px;\n",
              "    }\n",
              "\n",
              "    .colab-df-convert:hover {\n",
              "      background-color: #E2EBFA;\n",
              "      box-shadow: 0px 1px 2px rgba(60, 64, 67, 0.3), 0px 1px 3px 1px rgba(60, 64, 67, 0.15);\n",
              "      fill: #174EA6;\n",
              "    }\n",
              "\n",
              "    .colab-df-buttons div {\n",
              "      margin-bottom: 4px;\n",
              "    }\n",
              "\n",
              "    [theme=dark] .colab-df-convert {\n",
              "      background-color: #3B4455;\n",
              "      fill: #D2E3FC;\n",
              "    }\n",
              "\n",
              "    [theme=dark] .colab-df-convert:hover {\n",
              "      background-color: #434B5C;\n",
              "      box-shadow: 0px 1px 3px 1px rgba(0, 0, 0, 0.15);\n",
              "      filter: drop-shadow(0px 1px 2px rgba(0, 0, 0, 0.3));\n",
              "      fill: #FFFFFF;\n",
              "    }\n",
              "  </style>\n",
              "\n",
              "    <script>\n",
              "      const buttonEl =\n",
              "        document.querySelector('#df-e873590a-1530-4d38-b85b-2cab886d9d69 button.colab-df-convert');\n",
              "      buttonEl.style.display =\n",
              "        google.colab.kernel.accessAllowed ? 'block' : 'none';\n",
              "\n",
              "      async function convertToInteractive(key) {\n",
              "        const element = document.querySelector('#df-e873590a-1530-4d38-b85b-2cab886d9d69');\n",
              "        const dataTable =\n",
              "          await google.colab.kernel.invokeFunction('convertToInteractive',\n",
              "                                                    [key], {});\n",
              "        if (!dataTable) return;\n",
              "\n",
              "        const docLinkHtml = 'Like what you see? Visit the ' +\n",
              "          '<a target=\"_blank\" href=https://colab.research.google.com/notebooks/data_table.ipynb>data table notebook</a>'\n",
              "          + ' to learn more about interactive tables.';\n",
              "        element.innerHTML = '';\n",
              "        dataTable['output_type'] = 'display_data';\n",
              "        await google.colab.output.renderOutput(dataTable, element);\n",
              "        const docLink = document.createElement('div');\n",
              "        docLink.innerHTML = docLinkHtml;\n",
              "        element.appendChild(docLink);\n",
              "      }\n",
              "    </script>\n",
              "  </div>\n",
              "\n",
              "\n",
              "<div id=\"df-cdaef9e3-7ae6-42dd-8592-db5d2606b0e1\">\n",
              "  <button class=\"colab-df-quickchart\" onclick=\"quickchart('df-cdaef9e3-7ae6-42dd-8592-db5d2606b0e1')\"\n",
              "            title=\"Suggest charts\"\n",
              "            style=\"display:none;\">\n",
              "\n",
              "<svg xmlns=\"http://www.w3.org/2000/svg\" height=\"24px\"viewBox=\"0 0 24 24\"\n",
              "     width=\"24px\">\n",
              "    <g>\n",
              "        <path d=\"M19 3H5c-1.1 0-2 .9-2 2v14c0 1.1.9 2 2 2h14c1.1 0 2-.9 2-2V5c0-1.1-.9-2-2-2zM9 17H7v-7h2v7zm4 0h-2V7h2v10zm4 0h-2v-4h2v4z\"/>\n",
              "    </g>\n",
              "</svg>\n",
              "  </button>\n",
              "\n",
              "<style>\n",
              "  .colab-df-quickchart {\n",
              "      --bg-color: #E8F0FE;\n",
              "      --fill-color: #1967D2;\n",
              "      --hover-bg-color: #E2EBFA;\n",
              "      --hover-fill-color: #174EA6;\n",
              "      --disabled-fill-color: #AAA;\n",
              "      --disabled-bg-color: #DDD;\n",
              "  }\n",
              "\n",
              "  [theme=dark] .colab-df-quickchart {\n",
              "      --bg-color: #3B4455;\n",
              "      --fill-color: #D2E3FC;\n",
              "      --hover-bg-color: #434B5C;\n",
              "      --hover-fill-color: #FFFFFF;\n",
              "      --disabled-bg-color: #3B4455;\n",
              "      --disabled-fill-color: #666;\n",
              "  }\n",
              "\n",
              "  .colab-df-quickchart {\n",
              "    background-color: var(--bg-color);\n",
              "    border: none;\n",
              "    border-radius: 50%;\n",
              "    cursor: pointer;\n",
              "    display: none;\n",
              "    fill: var(--fill-color);\n",
              "    height: 32px;\n",
              "    padding: 0;\n",
              "    width: 32px;\n",
              "  }\n",
              "\n",
              "  .colab-df-quickchart:hover {\n",
              "    background-color: var(--hover-bg-color);\n",
              "    box-shadow: 0 1px 2px rgba(60, 64, 67, 0.3), 0 1px 3px 1px rgba(60, 64, 67, 0.15);\n",
              "    fill: var(--button-hover-fill-color);\n",
              "  }\n",
              "\n",
              "  .colab-df-quickchart-complete:disabled,\n",
              "  .colab-df-quickchart-complete:disabled:hover {\n",
              "    background-color: var(--disabled-bg-color);\n",
              "    fill: var(--disabled-fill-color);\n",
              "    box-shadow: none;\n",
              "  }\n",
              "\n",
              "  .colab-df-spinner {\n",
              "    border: 2px solid var(--fill-color);\n",
              "    border-color: transparent;\n",
              "    border-bottom-color: var(--fill-color);\n",
              "    animation:\n",
              "      spin 1s steps(1) infinite;\n",
              "  }\n",
              "\n",
              "  @keyframes spin {\n",
              "    0% {\n",
              "      border-color: transparent;\n",
              "      border-bottom-color: var(--fill-color);\n",
              "      border-left-color: var(--fill-color);\n",
              "    }\n",
              "    20% {\n",
              "      border-color: transparent;\n",
              "      border-left-color: var(--fill-color);\n",
              "      border-top-color: var(--fill-color);\n",
              "    }\n",
              "    30% {\n",
              "      border-color: transparent;\n",
              "      border-left-color: var(--fill-color);\n",
              "      border-top-color: var(--fill-color);\n",
              "      border-right-color: var(--fill-color);\n",
              "    }\n",
              "    40% {\n",
              "      border-color: transparent;\n",
              "      border-right-color: var(--fill-color);\n",
              "      border-top-color: var(--fill-color);\n",
              "    }\n",
              "    60% {\n",
              "      border-color: transparent;\n",
              "      border-right-color: var(--fill-color);\n",
              "    }\n",
              "    80% {\n",
              "      border-color: transparent;\n",
              "      border-right-color: var(--fill-color);\n",
              "      border-bottom-color: var(--fill-color);\n",
              "    }\n",
              "    90% {\n",
              "      border-color: transparent;\n",
              "      border-bottom-color: var(--fill-color);\n",
              "    }\n",
              "  }\n",
              "</style>\n",
              "\n",
              "  <script>\n",
              "    async function quickchart(key) {\n",
              "      const quickchartButtonEl =\n",
              "        document.querySelector('#' + key + ' button');\n",
              "      quickchartButtonEl.disabled = true;  // To prevent multiple clicks.\n",
              "      quickchartButtonEl.classList.add('colab-df-spinner');\n",
              "      try {\n",
              "        const charts = await google.colab.kernel.invokeFunction(\n",
              "            'suggestCharts', [key], {});\n",
              "      } catch (error) {\n",
              "        console.error('Error during call to suggestCharts:', error);\n",
              "      }\n",
              "      quickchartButtonEl.classList.remove('colab-df-spinner');\n",
              "      quickchartButtonEl.classList.add('colab-df-quickchart-complete');\n",
              "    }\n",
              "    (() => {\n",
              "      let quickchartButtonEl =\n",
              "        document.querySelector('#df-cdaef9e3-7ae6-42dd-8592-db5d2606b0e1 button');\n",
              "      quickchartButtonEl.style.display =\n",
              "        google.colab.kernel.accessAllowed ? 'block' : 'none';\n",
              "    })();\n",
              "  </script>\n",
              "</div>\n",
              "\n",
              "    </div>\n",
              "  </div>\n"
            ],
            "application/vnd.google.colaboratory.intrinsic+json": {
              "type": "dataframe",
              "variable_name": "training_data_mapped"
            }
          },
          "metadata": {},
          "execution_count": 20
        }
      ],
      "source": [
        "def substitute_roof_material(data):\n",
        "    \"\"\"\n",
        "    Input:\n",
        "      data (DataFrame): a DataFrame containing a 'Roof Material' column.  Its values\n",
        "                         should be limited to those found in the codebook\n",
        "    Output:\n",
        "      DataFrame identical to the input except with a refactored 'Roof Material' column\n",
        "    \"\"\"\n",
        "    data = data.replace({'Roof Material': {1: 'Shingle/Asphalt', 2: 'Tar & Gravel', 3: 'Slate', 4: 'Shake', 5: 'Tile', 6: 'Other'}})\n",
        "    return data\n",
        "\n",
        "training_data_mapped = substitute_roof_material(training_data)\n",
        "training_data_mapped.head()"
      ]
    },
    {
      "cell_type": "markdown",
      "metadata": {
        "deletable": false,
        "editable": false,
        "id": "6YtzA4xxSuMC"
      },
      "source": [
        "### One Hot Encoding\n",
        "\n",
        "Simply replacing the integers with the appropriate strings isn't sufficient for using `Roof Material` in our model.  Since `Roof Material` is a categorical variable, it must be one-hot-encoded.\n",
        "\n",
        "The function `ohe_roof_material` returns a `DataFrame` with the new column one-hot-encoded on the roof material of the household using Scikit-learn's `OneHotEncoder`. These new columns take the form `Roof Material_MATERIAL`, and the function returns a new `DataFrame`."
      ]
    },
    {
      "cell_type": "code",
      "execution_count": 21,
      "metadata": {
        "tags": [],
        "colab": {
          "base_uri": "https://localhost:8080/",
          "height": 418
        },
        "id": "dSEmXAvzSuMC",
        "outputId": "32d51f91-e3c5-4968-e392-d025b1f076fb"
      },
      "outputs": [
        {
          "output_type": "execute_result",
          "data": {
            "text/plain": [
              "    Roof Material_Shingle/Asphalt  Roof Material_Tar & Gravel  \\\n",
              "1                             1.0                         0.0   \n",
              "2                             1.0                         0.0   \n",
              "3                             1.0                         0.0   \n",
              "4                             1.0                         0.0   \n",
              "6                             1.0                         0.0   \n",
              "7                             1.0                         0.0   \n",
              "8                             0.0                         1.0   \n",
              "9                             1.0                         0.0   \n",
              "10                            1.0                         0.0   \n",
              "11                            1.0                         0.0   \n",
              "\n",
              "    Roof Material_Slate  Roof Material_Shake  Roof Material_Tile  \\\n",
              "1                   0.0                  0.0                 0.0   \n",
              "2                   0.0                  0.0                 0.0   \n",
              "3                   0.0                  0.0                 0.0   \n",
              "4                   0.0                  0.0                 0.0   \n",
              "6                   0.0                  0.0                 0.0   \n",
              "7                   0.0                  0.0                 0.0   \n",
              "8                   0.0                  0.0                 0.0   \n",
              "9                   0.0                  0.0                 0.0   \n",
              "10                  0.0                  0.0                 0.0   \n",
              "11                  0.0                  0.0                 0.0   \n",
              "\n",
              "    Roof Material_Other  \n",
              "1                   0.0  \n",
              "2                   0.0  \n",
              "3                   0.0  \n",
              "4                   0.0  \n",
              "6                   0.0  \n",
              "7                   0.0  \n",
              "8                   0.0  \n",
              "9                   0.0  \n",
              "10                  0.0  \n",
              "11                  0.0  "
            ],
            "text/html": [
              "\n",
              "  <div id=\"df-80814907-7663-49eb-8482-c9ce9472de7d\" class=\"colab-df-container\">\n",
              "    <div>\n",
              "<style scoped>\n",
              "    .dataframe tbody tr th:only-of-type {\n",
              "        vertical-align: middle;\n",
              "    }\n",
              "\n",
              "    .dataframe tbody tr th {\n",
              "        vertical-align: top;\n",
              "    }\n",
              "\n",
              "    .dataframe thead th {\n",
              "        text-align: right;\n",
              "    }\n",
              "</style>\n",
              "<table border=\"1\" class=\"dataframe\">\n",
              "  <thead>\n",
              "    <tr style=\"text-align: right;\">\n",
              "      <th></th>\n",
              "      <th>Roof Material_Shingle/Asphalt</th>\n",
              "      <th>Roof Material_Tar &amp; Gravel</th>\n",
              "      <th>Roof Material_Slate</th>\n",
              "      <th>Roof Material_Shake</th>\n",
              "      <th>Roof Material_Tile</th>\n",
              "      <th>Roof Material_Other</th>\n",
              "    </tr>\n",
              "  </thead>\n",
              "  <tbody>\n",
              "    <tr>\n",
              "      <th>1</th>\n",
              "      <td>1.0</td>\n",
              "      <td>0.0</td>\n",
              "      <td>0.0</td>\n",
              "      <td>0.0</td>\n",
              "      <td>0.0</td>\n",
              "      <td>0.0</td>\n",
              "    </tr>\n",
              "    <tr>\n",
              "      <th>2</th>\n",
              "      <td>1.0</td>\n",
              "      <td>0.0</td>\n",
              "      <td>0.0</td>\n",
              "      <td>0.0</td>\n",
              "      <td>0.0</td>\n",
              "      <td>0.0</td>\n",
              "    </tr>\n",
              "    <tr>\n",
              "      <th>3</th>\n",
              "      <td>1.0</td>\n",
              "      <td>0.0</td>\n",
              "      <td>0.0</td>\n",
              "      <td>0.0</td>\n",
              "      <td>0.0</td>\n",
              "      <td>0.0</td>\n",
              "    </tr>\n",
              "    <tr>\n",
              "      <th>4</th>\n",
              "      <td>1.0</td>\n",
              "      <td>0.0</td>\n",
              "      <td>0.0</td>\n",
              "      <td>0.0</td>\n",
              "      <td>0.0</td>\n",
              "      <td>0.0</td>\n",
              "    </tr>\n",
              "    <tr>\n",
              "      <th>6</th>\n",
              "      <td>1.0</td>\n",
              "      <td>0.0</td>\n",
              "      <td>0.0</td>\n",
              "      <td>0.0</td>\n",
              "      <td>0.0</td>\n",
              "      <td>0.0</td>\n",
              "    </tr>\n",
              "    <tr>\n",
              "      <th>7</th>\n",
              "      <td>1.0</td>\n",
              "      <td>0.0</td>\n",
              "      <td>0.0</td>\n",
              "      <td>0.0</td>\n",
              "      <td>0.0</td>\n",
              "      <td>0.0</td>\n",
              "    </tr>\n",
              "    <tr>\n",
              "      <th>8</th>\n",
              "      <td>0.0</td>\n",
              "      <td>1.0</td>\n",
              "      <td>0.0</td>\n",
              "      <td>0.0</td>\n",
              "      <td>0.0</td>\n",
              "      <td>0.0</td>\n",
              "    </tr>\n",
              "    <tr>\n",
              "      <th>9</th>\n",
              "      <td>1.0</td>\n",
              "      <td>0.0</td>\n",
              "      <td>0.0</td>\n",
              "      <td>0.0</td>\n",
              "      <td>0.0</td>\n",
              "      <td>0.0</td>\n",
              "    </tr>\n",
              "    <tr>\n",
              "      <th>10</th>\n",
              "      <td>1.0</td>\n",
              "      <td>0.0</td>\n",
              "      <td>0.0</td>\n",
              "      <td>0.0</td>\n",
              "      <td>0.0</td>\n",
              "      <td>0.0</td>\n",
              "    </tr>\n",
              "    <tr>\n",
              "      <th>11</th>\n",
              "      <td>1.0</td>\n",
              "      <td>0.0</td>\n",
              "      <td>0.0</td>\n",
              "      <td>0.0</td>\n",
              "      <td>0.0</td>\n",
              "      <td>0.0</td>\n",
              "    </tr>\n",
              "  </tbody>\n",
              "</table>\n",
              "</div>\n",
              "    <div class=\"colab-df-buttons\">\n",
              "\n",
              "  <div class=\"colab-df-container\">\n",
              "    <button class=\"colab-df-convert\" onclick=\"convertToInteractive('df-80814907-7663-49eb-8482-c9ce9472de7d')\"\n",
              "            title=\"Convert this dataframe to an interactive table.\"\n",
              "            style=\"display:none;\">\n",
              "\n",
              "  <svg xmlns=\"http://www.w3.org/2000/svg\" height=\"24px\" viewBox=\"0 -960 960 960\">\n",
              "    <path d=\"M120-120v-720h720v720H120Zm60-500h600v-160H180v160Zm220 220h160v-160H400v160Zm0 220h160v-160H400v160ZM180-400h160v-160H180v160Zm440 0h160v-160H620v160ZM180-180h160v-160H180v160Zm440 0h160v-160H620v160Z\"/>\n",
              "  </svg>\n",
              "    </button>\n",
              "\n",
              "  <style>\n",
              "    .colab-df-container {\n",
              "      display:flex;\n",
              "      gap: 12px;\n",
              "    }\n",
              "\n",
              "    .colab-df-convert {\n",
              "      background-color: #E8F0FE;\n",
              "      border: none;\n",
              "      border-radius: 50%;\n",
              "      cursor: pointer;\n",
              "      display: none;\n",
              "      fill: #1967D2;\n",
              "      height: 32px;\n",
              "      padding: 0 0 0 0;\n",
              "      width: 32px;\n",
              "    }\n",
              "\n",
              "    .colab-df-convert:hover {\n",
              "      background-color: #E2EBFA;\n",
              "      box-shadow: 0px 1px 2px rgba(60, 64, 67, 0.3), 0px 1px 3px 1px rgba(60, 64, 67, 0.15);\n",
              "      fill: #174EA6;\n",
              "    }\n",
              "\n",
              "    .colab-df-buttons div {\n",
              "      margin-bottom: 4px;\n",
              "    }\n",
              "\n",
              "    [theme=dark] .colab-df-convert {\n",
              "      background-color: #3B4455;\n",
              "      fill: #D2E3FC;\n",
              "    }\n",
              "\n",
              "    [theme=dark] .colab-df-convert:hover {\n",
              "      background-color: #434B5C;\n",
              "      box-shadow: 0px 1px 3px 1px rgba(0, 0, 0, 0.15);\n",
              "      filter: drop-shadow(0px 1px 2px rgba(0, 0, 0, 0.3));\n",
              "      fill: #FFFFFF;\n",
              "    }\n",
              "  </style>\n",
              "\n",
              "    <script>\n",
              "      const buttonEl =\n",
              "        document.querySelector('#df-80814907-7663-49eb-8482-c9ce9472de7d button.colab-df-convert');\n",
              "      buttonEl.style.display =\n",
              "        google.colab.kernel.accessAllowed ? 'block' : 'none';\n",
              "\n",
              "      async function convertToInteractive(key) {\n",
              "        const element = document.querySelector('#df-80814907-7663-49eb-8482-c9ce9472de7d');\n",
              "        const dataTable =\n",
              "          await google.colab.kernel.invokeFunction('convertToInteractive',\n",
              "                                                    [key], {});\n",
              "        if (!dataTable) return;\n",
              "\n",
              "        const docLinkHtml = 'Like what you see? Visit the ' +\n",
              "          '<a target=\"_blank\" href=https://colab.research.google.com/notebooks/data_table.ipynb>data table notebook</a>'\n",
              "          + ' to learn more about interactive tables.';\n",
              "        element.innerHTML = '';\n",
              "        dataTable['output_type'] = 'display_data';\n",
              "        await google.colab.output.renderOutput(dataTable, element);\n",
              "        const docLink = document.createElement('div');\n",
              "        docLink.innerHTML = docLinkHtml;\n",
              "        element.appendChild(docLink);\n",
              "      }\n",
              "    </script>\n",
              "  </div>\n",
              "\n",
              "\n",
              "<div id=\"df-60874566-6f72-4d1e-87c9-f2e6cc828bcb\">\n",
              "  <button class=\"colab-df-quickchart\" onclick=\"quickchart('df-60874566-6f72-4d1e-87c9-f2e6cc828bcb')\"\n",
              "            title=\"Suggest charts\"\n",
              "            style=\"display:none;\">\n",
              "\n",
              "<svg xmlns=\"http://www.w3.org/2000/svg\" height=\"24px\"viewBox=\"0 0 24 24\"\n",
              "     width=\"24px\">\n",
              "    <g>\n",
              "        <path d=\"M19 3H5c-1.1 0-2 .9-2 2v14c0 1.1.9 2 2 2h14c1.1 0 2-.9 2-2V5c0-1.1-.9-2-2-2zM9 17H7v-7h2v7zm4 0h-2V7h2v10zm4 0h-2v-4h2v4z\"/>\n",
              "    </g>\n",
              "</svg>\n",
              "  </button>\n",
              "\n",
              "<style>\n",
              "  .colab-df-quickchart {\n",
              "      --bg-color: #E8F0FE;\n",
              "      --fill-color: #1967D2;\n",
              "      --hover-bg-color: #E2EBFA;\n",
              "      --hover-fill-color: #174EA6;\n",
              "      --disabled-fill-color: #AAA;\n",
              "      --disabled-bg-color: #DDD;\n",
              "  }\n",
              "\n",
              "  [theme=dark] .colab-df-quickchart {\n",
              "      --bg-color: #3B4455;\n",
              "      --fill-color: #D2E3FC;\n",
              "      --hover-bg-color: #434B5C;\n",
              "      --hover-fill-color: #FFFFFF;\n",
              "      --disabled-bg-color: #3B4455;\n",
              "      --disabled-fill-color: #666;\n",
              "  }\n",
              "\n",
              "  .colab-df-quickchart {\n",
              "    background-color: var(--bg-color);\n",
              "    border: none;\n",
              "    border-radius: 50%;\n",
              "    cursor: pointer;\n",
              "    display: none;\n",
              "    fill: var(--fill-color);\n",
              "    height: 32px;\n",
              "    padding: 0;\n",
              "    width: 32px;\n",
              "  }\n",
              "\n",
              "  .colab-df-quickchart:hover {\n",
              "    background-color: var(--hover-bg-color);\n",
              "    box-shadow: 0 1px 2px rgba(60, 64, 67, 0.3), 0 1px 3px 1px rgba(60, 64, 67, 0.15);\n",
              "    fill: var(--button-hover-fill-color);\n",
              "  }\n",
              "\n",
              "  .colab-df-quickchart-complete:disabled,\n",
              "  .colab-df-quickchart-complete:disabled:hover {\n",
              "    background-color: var(--disabled-bg-color);\n",
              "    fill: var(--disabled-fill-color);\n",
              "    box-shadow: none;\n",
              "  }\n",
              "\n",
              "  .colab-df-spinner {\n",
              "    border: 2px solid var(--fill-color);\n",
              "    border-color: transparent;\n",
              "    border-bottom-color: var(--fill-color);\n",
              "    animation:\n",
              "      spin 1s steps(1) infinite;\n",
              "  }\n",
              "\n",
              "  @keyframes spin {\n",
              "    0% {\n",
              "      border-color: transparent;\n",
              "      border-bottom-color: var(--fill-color);\n",
              "      border-left-color: var(--fill-color);\n",
              "    }\n",
              "    20% {\n",
              "      border-color: transparent;\n",
              "      border-left-color: var(--fill-color);\n",
              "      border-top-color: var(--fill-color);\n",
              "    }\n",
              "    30% {\n",
              "      border-color: transparent;\n",
              "      border-left-color: var(--fill-color);\n",
              "      border-top-color: var(--fill-color);\n",
              "      border-right-color: var(--fill-color);\n",
              "    }\n",
              "    40% {\n",
              "      border-color: transparent;\n",
              "      border-right-color: var(--fill-color);\n",
              "      border-top-color: var(--fill-color);\n",
              "    }\n",
              "    60% {\n",
              "      border-color: transparent;\n",
              "      border-right-color: var(--fill-color);\n",
              "    }\n",
              "    80% {\n",
              "      border-color: transparent;\n",
              "      border-right-color: var(--fill-color);\n",
              "      border-bottom-color: var(--fill-color);\n",
              "    }\n",
              "    90% {\n",
              "      border-color: transparent;\n",
              "      border-bottom-color: var(--fill-color);\n",
              "    }\n",
              "  }\n",
              "</style>\n",
              "\n",
              "  <script>\n",
              "    async function quickchart(key) {\n",
              "      const quickchartButtonEl =\n",
              "        document.querySelector('#' + key + ' button');\n",
              "      quickchartButtonEl.disabled = true;  // To prevent multiple clicks.\n",
              "      quickchartButtonEl.classList.add('colab-df-spinner');\n",
              "      try {\n",
              "        const charts = await google.colab.kernel.invokeFunction(\n",
              "            'suggestCharts', [key], {});\n",
              "      } catch (error) {\n",
              "        console.error('Error during call to suggestCharts:', error);\n",
              "      }\n",
              "      quickchartButtonEl.classList.remove('colab-df-spinner');\n",
              "      quickchartButtonEl.classList.add('colab-df-quickchart-complete');\n",
              "    }\n",
              "    (() => {\n",
              "      let quickchartButtonEl =\n",
              "        document.querySelector('#df-60874566-6f72-4d1e-87c9-f2e6cc828bcb button');\n",
              "      quickchartButtonEl.style.display =\n",
              "        google.colab.kernel.accessAllowed ? 'block' : 'none';\n",
              "    })();\n",
              "  </script>\n",
              "</div>\n",
              "\n",
              "    </div>\n",
              "  </div>\n"
            ],
            "application/vnd.google.colaboratory.intrinsic+json": {
              "type": "dataframe",
              "summary": "{\n  \"name\": \"training_data_ohe\",\n  \"rows\": 10,\n  \"fields\": [\n    {\n      \"column\": \"Roof Material_Shingle/Asphalt\",\n      \"properties\": {\n        \"dtype\": \"number\",\n        \"std\": 0.31622776601683794,\n        \"min\": 0.0,\n        \"max\": 1.0,\n        \"num_unique_values\": 2,\n        \"samples\": [\n          0.0,\n          1.0\n        ],\n        \"semantic_type\": \"\",\n        \"description\": \"\"\n      }\n    },\n    {\n      \"column\": \"Roof Material_Tar & Gravel\",\n      \"properties\": {\n        \"dtype\": \"number\",\n        \"std\": 0.31622776601683794,\n        \"min\": 0.0,\n        \"max\": 1.0,\n        \"num_unique_values\": 2,\n        \"samples\": [\n          1.0,\n          0.0\n        ],\n        \"semantic_type\": \"\",\n        \"description\": \"\"\n      }\n    },\n    {\n      \"column\": \"Roof Material_Slate\",\n      \"properties\": {\n        \"dtype\": \"number\",\n        \"std\": 0.0,\n        \"min\": 0.0,\n        \"max\": 0.0,\n        \"num_unique_values\": 1,\n        \"samples\": [\n          0.0\n        ],\n        \"semantic_type\": \"\",\n        \"description\": \"\"\n      }\n    },\n    {\n      \"column\": \"Roof Material_Shake\",\n      \"properties\": {\n        \"dtype\": \"number\",\n        \"std\": 0.0,\n        \"min\": 0.0,\n        \"max\": 0.0,\n        \"num_unique_values\": 1,\n        \"samples\": [\n          0.0\n        ],\n        \"semantic_type\": \"\",\n        \"description\": \"\"\n      }\n    },\n    {\n      \"column\": \"Roof Material_Tile\",\n      \"properties\": {\n        \"dtype\": \"number\",\n        \"std\": 0.0,\n        \"min\": 0.0,\n        \"max\": 0.0,\n        \"num_unique_values\": 1,\n        \"samples\": [\n          0.0\n        ],\n        \"semantic_type\": \"\",\n        \"description\": \"\"\n      }\n    },\n    {\n      \"column\": \"Roof Material_Other\",\n      \"properties\": {\n        \"dtype\": \"number\",\n        \"std\": 0.0,\n        \"min\": 0.0,\n        \"max\": 0.0,\n        \"num_unique_values\": 1,\n        \"samples\": [\n          0.0\n        ],\n        \"semantic_type\": \"\",\n        \"description\": \"\"\n      }\n    }\n  ]\n}"
            }
          },
          "metadata": {},
          "execution_count": 21
        }
      ],
      "source": [
        "from sklearn.preprocessing import OneHotEncoder\n",
        "\n",
        "def ohe_roof_material(data):\n",
        "    \"\"\"\n",
        "    One-hot-encodes roof material. New columns are of the form \"Roof Material_MATERIAL\".\n",
        "    \"\"\"\n",
        "    cat = ['Roof Material']\n",
        "\n",
        "    oh_enc = OneHotEncoder()\n",
        "    oh_enc.fit(data[cat])\n",
        "    ohe_data = oh_enc.transform(data[cat]).toarray()\n",
        "    data_2 = (data.join(pd.DataFrame(ohe_data, columns=oh_enc.get_feature_names_out(), index=data.index)))\n",
        "    data_2 = data_2.rename(columns={'Roof Material_1.0': 'Roof Material_Shingle/Asphalt',\n",
        "                                    'Roof Material_2.0': 'Roof Material_Tar & Gravel',\n",
        "                                    'Roof Material_3.0': 'Roof Material_Slate',\n",
        "                                    'Roof Material_4.0': 'Roof Material_Shake',\n",
        "                                    'Roof Material_5.0': 'Roof Material_Tile',\n",
        "                                    'Roof Material_6.0': 'Roof Material_Other'})\n",
        "    return data_2\n",
        "\n",
        "training_data_ohe = ohe_roof_material(training_data)\n",
        "# This line of code will display only the one-hot-encoded columns in training_data_ohe that\n",
        "# have names that begin with “Roof Material_\"\n",
        "training_data_ohe.filter(regex='^Roof Material_').head(10)"
      ]
    },
    {
      "cell_type": "markdown",
      "source": [
        "# 5. Conclusion\n",
        "\n",
        "The dataset was cleaned and transformed for improved interpretability. Outliers were removed, key features were engineered, and categorical variables were prepared using one-hot encoding. The dataset is now ready for Part 2, which will focus on building and evaluating predictive models to forecast property prices."
      ],
      "metadata": {
        "id": "MZT0zTiooJLY"
      }
    }
  ],
  "metadata": {
    "celltoolbar": "Create Assignment",
    "kernelspec": {
      "display_name": "Python 3 (ipykernel)",
      "language": "python",
      "name": "python3"
    },
    "language_info": {
      "codemirror_mode": {
        "name": "ipython",
        "version": 3
      },
      "file_extension": ".py",
      "mimetype": "text/x-python",
      "name": "python",
      "nbconvert_exporter": "python",
      "pygments_lexer": "ipython3",
      "version": "3.11.10"
    },
    "otter": {
      "OK_FORMAT": true,
      "tests": {
        "q2b": {
          "name": "q2b",
          "points": 1,
          "suites": [
            {
              "cases": [
                {
                  "code": ">>> 'Sale Price' in training_data.columns # check that \"Sale Price\" is still in the training_data table\nTrue",
                  "hidden": false,
                  "locked": false
                },
                {
                  "code": ">>> 'Log Sale Price' in training_data.columns\nTrue",
                  "hidden": false,
                  "locked": false
                },
                {
                  "code": ">>> np.isclose(training_data['Log Sale Price'].sum(), 2055590.7351105125, atol=0.00001)\nTrue",
                  "hidden": false,
                  "locked": false
                }
              ],
              "scored": true,
              "setup": "",
              "teardown": "",
              "type": "doctest"
            }
          ]
        },
        "q3a": {
          "name": "q3a",
          "points": 1,
          "suites": [
            {
              "cases": [
                {
                  "code": ">>> q3statement in [True, False]\nTrue",
                  "hidden": false,
                  "locked": false
                }
              ],
              "scored": true,
              "setup": "",
              "teardown": "",
              "type": "doctest"
            }
          ]
        },
        "q3b": {
          "name": "q3b",
          "points": 1,
          "suites": [
            {
              "cases": [
                {
                  "code": ">>> 'Building Square Feet' in training_data.columns  #check that \"Building Square Feet\" is still in the training_data table\nTrue",
                  "hidden": false,
                  "locked": false
                },
                {
                  "code": ">>> 'Log Building Square Feet' in training_data.columns\nTrue",
                  "hidden": false,
                  "locked": false
                },
                {
                  "code": ">>> np.isclose(training_data['Log Building Square Feet'].mean(), 7.2914293261161)\nTrue",
                  "hidden": false,
                  "locked": false
                },
                {
                  "code": ">>> \n",
                  "hidden": false,
                  "locked": false
                }
              ],
              "scored": true,
              "setup": "",
              "teardown": "",
              "type": "doctest"
            }
          ]
        },
        "q4": {
          "name": "q4",
          "points": 2,
          "suites": [
            {
              "cases": [
                {
                  "code": ">>> # Make sure that remove_outliers doesn't mutate its input\n>>> remove_outliers(training_data, 'Building Square Feet', upper=2000).shape != training_data.shape\nTrue",
                  "hidden": false,
                  "locked": false
                }
              ],
              "scored": true,
              "setup": "",
              "teardown": "",
              "type": "doctest"
            }
          ]
        },
        "q5a": {
          "name": "q5a",
          "points": 1,
          "suites": [
            {
              "cases": [
                {
                  "code": ">>> isinstance(q5a, list) == True\nTrue",
                  "hidden": false,
                  "locked": false
                },
                {
                  "code": ">>> isinstance(q5a[0], int) == True\nTrue",
                  "hidden": false,
                  "locked": false
                }
              ],
              "scored": true,
              "setup": "",
              "teardown": "",
              "type": "doctest"
            }
          ]
        },
        "q5b": {
          "name": "q5b",
          "points": 2,
          "suites": [
            {
              "cases": [
                {
                  "code": ">>> not training_data['Bedrooms'].isnull().any() # Check that missing values are dealt with\nTrue",
                  "hidden": false,
                  "locked": false
                },
                {
                  "code": ">>> pd.api.types.is_integer_dtype(training_data['Bedrooms']) # Check that Bedrooms are ints\nTrue",
                  "hidden": false,
                  "locked": false
                }
              ],
              "scored": true,
              "setup": "",
              "teardown": "",
              "type": "doctest"
            }
          ]
        },
        "q6a": {
          "name": "q6a",
          "points": 1,
          "suites": [
            {
              "cases": [
                {
                  "code": ">>> isinstance(num_neighborhoods, int)\nTrue",
                  "hidden": false,
                  "locked": false
                }
              ],
              "scored": true,
              "setup": "",
              "teardown": "",
              "type": "doctest"
            }
          ]
        },
        "q6b": {
          "name": "q6b",
          "points": 2,
          "suites": [
            {
              "cases": [
                {
                  "code": ">>> len(in_top_20_neighborhoods['Neighborhood Code'].unique()) == 20\nTrue",
                  "hidden": false,
                  "locked": false
                },
                {
                  "code": ">>> in_top_20_neighborhoods['Neighborhood Code'].iloc[0] == 120\nTrue",
                  "hidden": false,
                  "locked": false
                }
              ],
              "scored": true,
              "setup": "",
              "teardown": "",
              "type": "doctest"
            }
          ]
        },
        "q6c": {
          "name": "q6c",
          "points": 2,
          "suites": [
            {
              "cases": [
                {
                  "code": ">>> len(find_expensive_neighborhoods(training_data, 5, np.median)) == 5\nTrue",
                  "hidden": false,
                  "locked": false
                },
                {
                  "code": ">>> isinstance(expensive_neighborhoods, list)\nTrue",
                  "hidden": false,
                  "locked": false
                },
                {
                  "code": ">>> set(find_expensive_neighborhoods(training_data, 2, np.min)) == set([106, 580])\nTrue",
                  "hidden": false,
                  "locked": false
                }
              ],
              "scored": true,
              "setup": "",
              "teardown": "",
              "type": "doctest"
            }
          ]
        },
        "q6d": {
          "name": "q6d",
          "points": 1,
          "suites": [
            {
              "cases": [
                {
                  "code": ">>> (sum(training_data.loc[:, 'in_expensive_neighborhood']) == 1290) and (sum(training_data.loc[:, 'in_expensive_neighborhood'].isnull()) == 0)\nTrue",
                  "hidden": false,
                  "locked": false
                }
              ],
              "scored": true,
              "setup": "",
              "teardown": "",
              "type": "doctest"
            }
          ]
        },
        "q7a": {
          "name": "q7a",
          "points": 1,
          "suites": [
            {
              "cases": [
                {
                  "code": ">>> set(training_data_mapped['Roof Material'].unique()) == set(['Shingle/Asphalt', 'Tar & Gravel', 'Other', 'Tile', 'Shake', 'Slate'])\nTrue",
                  "hidden": false,
                  "locked": false
                }
              ],
              "scored": true,
              "setup": "",
              "teardown": "",
              "type": "doctest"
            }
          ]
        },
        "q7b": {
          "name": "q7b",
          "points": 2,
          "suites": [
            {
              "cases": [
                {
                  "code": ">>> training_data_ohe.shape == (168931, 72)\nTrue",
                  "hidden": false,
                  "locked": false
                },
                {
                  "code": ">>> expected_ohe_cols = set(['Roof Material_Other', 'Roof Material_Shake', 'Roof Material_Shingle/Asphalt' ,'Roof Material_Slate', 'Roof Material_Tar & Gravel', 'Roof Material_Tile'])\n>>> expected_ohe_cols.issubset(set(training_data_ohe.columns)) == True\nTrue",
                  "hidden": false,
                  "locked": false
                }
              ],
              "scored": true,
              "setup": "",
              "teardown": "",
              "type": "doctest"
            }
          ]
        }
      }
    },
    "colab": {
      "provenance": []
    }
  },
  "nbformat": 4,
  "nbformat_minor": 0
}